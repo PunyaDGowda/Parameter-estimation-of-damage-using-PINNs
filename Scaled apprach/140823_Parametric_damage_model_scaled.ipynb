{
  "nbformat": 4,
  "nbformat_minor": 0,
  "metadata": {
    "colab": {
      "provenance": [],
      "machine_shape": "hm",
      "gpuType": "T4"
    },
    "kernelspec": {
      "name": "python3",
      "display_name": "Python 3"
    },
    "language_info": {
      "name": "python"
    },
    "accelerator": "GPU"
  },
  "cells": [
    {
      "cell_type": "code",
      "execution_count": null,
      "metadata": {
        "colab": {
          "base_uri": "https://localhost:8080/"
        },
        "id": "qEQqQhNH8FA8",
        "outputId": "0a690f03-7dd7-4d7f-e074-fe6447981f7c"
      },
      "outputs": [
        {
          "output_type": "stream",
          "name": "stdout",
          "text": [
            "Requirement already satisfied: pyDOE in /usr/local/lib/python3.10/dist-packages (0.3.8)\n",
            "Requirement already satisfied: numpy in /usr/local/lib/python3.10/dist-packages (from pyDOE) (1.23.5)\n",
            "Requirement already satisfied: scipy in /usr/local/lib/python3.10/dist-packages (from pyDOE) (1.10.1)\n"
          ]
        }
      ],
      "source": [
        "!pip install pyDOE"
      ]
    },
    {
      "cell_type": "code",
      "source": [
        "import scipy.io\n",
        "import numpy as np\n",
        "from pyDOE import lhs\n",
        "import tensorflow as tf\n",
        "import time\n",
        "import matplotlib.pyplot as plt\n",
        "from matplotlib import cm\n",
        "from matplotlib.ticker import LinearLocator\n",
        "import matplotlib as mpl\n",
        "import matplotlib.pyplot as mpl\n",
        "mpl.rcParams.update(mpl.rcParamsDefault)\n",
        "from scipy.interpolate import griddata\n",
        "from mpl_toolkits.mplot3d import Axes3D\n",
        "import matplotlib.gridspec as gridspec\n",
        "from mpl_toolkits.axes_grid1 import make_axes_locatable\n",
        "\n",
        "# generates same random numbers each time\n",
        "np.random.seed(1234)\n",
        "tf.random.set_seed(1234)\n",
        "\n",
        "print(\"TensorFlow version: {}\".format(tf.__version__))"
      ],
      "metadata": {
        "colab": {
          "base_uri": "https://localhost:8080/"
        },
        "id": "OHaAs8JL8mlt",
        "outputId": "b2567aeb-39d0-4223-bdc1-d3a63be910aa"
      },
      "execution_count": null,
      "outputs": [
        {
          "output_type": "stream",
          "name": "stdout",
          "text": [
            "TensorFlow version: 2.12.0\n"
          ]
        }
      ]
    },
    {
      "cell_type": "markdown",
      "source": [
        "**1. Loading experimental data**"
      ],
      "metadata": {
        "id": "6ZwBiTJw8tDC"
      }
    },
    {
      "cell_type": "code",
      "source": [
        "# External source sineburst excitation parameters\n",
        "Lx = Ly = 0.3 # x-length of the steel plate[m]\n",
        "c = 4773.343 # [m/s]\n",
        "fex = 120000 # frequency in Hz used in excitation\n",
        "Tex = 1/fex\n",
        "cycles = 5\n",
        "dt = Tex/40  # in seconds\n",
        "tsim = 1.2*Lx/2/c # total simulation time\n",
        "print('dt : ', dt, ' tsim : ', tsim)\n",
        "#------------------------------------------------\n",
        "# Damage model data from MATLAB\n",
        "lb_input = np.array([0.0, 0.0, 0.0, 0.0, 0.0])  # lower bound(lb) = (x_0, y_0, t_0, phi_x_0, phi_y_0)\n",
        "lb_output = -5e-25\n",
        "ub_input = np.array([0.3, 0.3, tsim, 0.3, 0.3]) # upper bound(ub) = (x_n, y_n, t_n, phi_x_n, phi_y_n)\n",
        "ub_output = 5e-25\n",
        "\n",
        "# Load the data\n",
        "data = scipy.io.loadmat('wave2d_damage_new.mat')\n",
        "disp_data = data['saved_dis'] # 151 x 151 x 16\n",
        "t_data = data['time_data'] # 1 x 16 [# done]\n",
        "x_data = data['x'] # 1 x 151\n",
        "y_data = data['y'] # 1 x 151\n",
        "print('disp_data : ', np.shape(disp_data))\n",
        "print('t_data : ', np.shape(t_data))\n",
        "print('x_data : ', np.shape(x_data))\n",
        "print('y_data : ', np.shape(y_data))\n"
      ],
      "metadata": {
        "colab": {
          "base_uri": "https://localhost:8080/"
        },
        "id": "99RnQDRK8wh8",
        "outputId": "20cab8c7-4c4b-4340-9b02-c82a5667360c"
      },
      "execution_count": null,
      "outputs": [
        {
          "output_type": "stream",
          "name": "stdout",
          "text": [
            "dt :  2.0833333333333333e-07  tsim :  3.770942083986003e-05\n",
            "disp_data :  (151, 151, 16)\n",
            "t_data :  (1, 16)\n",
            "x_data :  (1, 151)\n",
            "y_data :  (1, 151)\n"
          ]
        }
      ]
    },
    {
      "cell_type": "code",
      "source": [
        "centre = (Lx/2, Ly/2)\n",
        "print(centre)\n",
        "centre[1]"
      ],
      "metadata": {
        "colab": {
          "base_uri": "https://localhost:8080/"
        },
        "id": "Vk8v0JYZNtbx",
        "outputId": "54dcde06-4d00-460d-f77c-aa30faba12d6"
      },
      "execution_count": null,
      "outputs": [
        {
          "output_type": "stream",
          "name": "stdout",
          "text": [
            "(0.15, 0.15)\n"
          ]
        },
        {
          "output_type": "execute_result",
          "data": {
            "text/plain": [
              "0.15"
            ]
          },
          "metadata": {},
          "execution_count": 56
        }
      ]
    },
    {
      "cell_type": "code",
      "source": [
        "print(t_data)"
      ],
      "metadata": {
        "colab": {
          "base_uri": "https://localhost:8080/"
        },
        "id": "561cp8ARaYxs",
        "outputId": "d41c3810-0610-42e4-ea51-0ed4e60597d0"
      },
      "execution_count": null,
      "outputs": [
        {
          "output_type": "stream",
          "name": "stdout",
          "text": [
            "[[2.29166667e-06 4.58333333e-06 6.87500000e-06 9.16666667e-06\n",
            "  1.14583333e-05 1.37500000e-05 1.60416667e-05 1.83333333e-05\n",
            "  2.06250000e-05 2.29166667e-05 2.52083333e-05 2.75000000e-05\n",
            "  2.97916667e-05 3.20833333e-05 3.43750000e-05 3.66666667e-05]]\n"
          ]
        }
      ]
    },
    {
      "cell_type": "code",
      "source": [
        "3*Tex"
      ],
      "metadata": {
        "colab": {
          "base_uri": "https://localhost:8080/"
        },
        "id": "OkCydY8race2",
        "outputId": "8f7beacc-a73c-4161-a0ca-cb4fdfcde004"
      },
      "execution_count": null,
      "outputs": [
        {
          "output_type": "execute_result",
          "data": {
            "text/plain": [
              "<tf.Tensor: shape=(), dtype=float64, numpy=2.5e-05>"
            ]
          },
          "metadata": {},
          "execution_count": 39
        }
      ]
    },
    {
      "cell_type": "markdown",
      "source": [
        "**2.Data prep**"
      ],
      "metadata": {
        "id": "MZ6VA4RIBAym"
      }
    },
    {
      "cell_type": "code",
      "source": [
        "# Modifying shapes of input MATLAB data to be compatible for training\n",
        "\n",
        "#---------------------Space co-ordinates-----------------------------\n",
        "x_data = x_data.T # 151 x 1\n",
        "y_data = y_data.T # 151 x 1\n",
        "X,Y = np.meshgrid(x_data,y_data)\n",
        "X_Y_data = np.hstack((X.flatten()[:,None], Y.flatten()[:,None]))\n",
        "print('X_Y_data : ',np.shape(X_Y_data)) # 22801 x 2\n",
        "\n",
        "#--------------------Displacement field------------------------------\n",
        "disp_data = disp_data.reshape(-1,16)\n",
        "print('disp_data : ',np.shape(disp_data))  # 22801 x 16\n",
        "\n",
        "#--------------------------------------------------------------------\n",
        "# Lets set equal shape for all input and output data\n",
        "TT= np.tile(t_data,(22801, 1)) # repeats time_data row-wise\n",
        "print('t_star : ',np.shape(TT))\n",
        "XX= np.tile(X_Y_data[:,0:1],(1,16)) # repeats x_star column-wise\n",
        "print('x_star : ',np.shape(XX))\n",
        "YY= np.tile(X_Y_data[:,1:2],(1,16)) # repeats y_star column-wise\n",
        "print('y_star : ',np.shape(YY))\n",
        "UU = disp_data\n",
        "print('u_star : ',np.shape(UU))\n",
        "\n",
        "# Reshape input and outputs as column vector\n",
        "print('After reshaping to column vectors : ')\n",
        "t_star = np.reshape(TT,(-1,1))\n",
        "print('t_star : ',np.shape(t_star))\n",
        "x_star = np.reshape(XX,(-1,1))\n",
        "print('x_star : ',np.shape(x_star))\n",
        "y_star = np.reshape(YY,(-1,1))\n",
        "print('y_star : ',np.shape(y_star))\n",
        "u_star = np.reshape(UU,(-1,1))\n",
        "print('u_star : ',np.shape(u_star))\n",
        "\n",
        "#---------------------Damage location parameters------------------------\n",
        "damage_x = np.zeros((151,1))\n",
        "#damage_x[120] = 1\n",
        "damage_x[0:151] = 0.2\n",
        "#print(damage_x)\n",
        "\n",
        "damage_y = np.zeros((151,1))\n",
        "damage_y[0:151] = 0.2\n",
        "#damage_y[120] = 1\n",
        "\n",
        "Dx,Dy = np.meshgrid(damage_x,damage_y)\n",
        "Dx_Dy_data = np.hstack((Dx.flatten()[:,None], Dy.flatten()[:,None]))\n",
        "print('Dx_Dy_data : ',np.shape(Dx_Dy_data)) # 22801 x 2\n",
        "\n",
        "dx_star = np.tile(Dx_Dy_data [:,0:1],(1,16)) # repeats d_star column-wise\n",
        "print('dx_star : ',np.shape(dx_star))\n",
        "dy_star = np.tile(Dx_Dy_data [:,1:2],(1,16)) # repeats d_star column-wise\n",
        "print('dy_star : ',np.shape(dy_star))\n",
        "\n",
        "dx_star = np.reshape(dx_star,(-1,1))\n",
        "print('dx_star after reshaping : ',np.shape(dx_star))\n",
        "dy_star = np.reshape(dy_star,(-1,1))\n",
        "print('dy_star after reshaping : ',np.shape(dy_star))"
      ],
      "metadata": {
        "colab": {
          "base_uri": "https://localhost:8080/"
        },
        "id": "LiDYXJ-LBEtA",
        "outputId": "a20e0a93-2717-48c3-c89d-0f1e06733044"
      },
      "execution_count": null,
      "outputs": [
        {
          "output_type": "stream",
          "name": "stdout",
          "text": [
            "X_Y_data :  (22801, 2)\n",
            "disp_data :  (22801, 16)\n",
            "t_star :  (22801, 16)\n",
            "x_star :  (22801, 16)\n",
            "y_star :  (22801, 16)\n",
            "u_star :  (22801, 16)\n",
            "After reshaping to column vectors : \n",
            "t_star :  (364816, 1)\n",
            "x_star :  (364816, 1)\n",
            "y_star :  (364816, 1)\n",
            "u_star :  (364816, 1)\n",
            "Dx_Dy_data :  (22801, 2)\n",
            "dx_star :  (22801, 16)\n",
            "dy_star :  (22801, 16)\n",
            "dx_star after reshaping :  (364816, 1)\n",
            "dy_star after reshaping :  (364816, 1)\n"
          ]
        }
      ]
    },
    {
      "cell_type": "markdown",
      "source": [
        "**3. Training data for Initial and Boundary conditions**"
      ],
      "metadata": {
        "id": "oyMI16ZmFBDn"
      }
    },
    {
      "cell_type": "code",
      "source": [
        "def trainingdata(N_u_ic, N_u_bc, N_f ,N_d):\n",
        "\n",
        "  # Initial condition\n",
        "  t_b0 = t_star[t_star==t_star.min()][:,None]\n",
        "  x_b0 = x_star[t_star == t_star.min()][:,None]\n",
        "  y_b0 = y_star[t_star == t_star.min()][:,None]\n",
        "  dx_b0 = dx_star[t_star == t_star.min()][:,None]\n",
        "  dy_b0 = dy_star[t_star == t_star.min()][:,None]\n",
        "  X_b0 = np.concatenate([x_b0,y_b0,t_b0,dx_b0,dy_b0],1)  # concatenate  x_b0, y_b0,t_b0, dx_b0, dy_b0\n",
        "  print('X_b0 : ', np.shape(X_b0))\n",
        "  u_b0 = u_star[t_star == t_star.min()][:,None]\n",
        "  print('t_b0 : ', np.shape(t_b0),'x_b0 : ', np.shape(x_b0),\n",
        "        'y_b0 : ', np.shape(y_b0),'dx_b0 : ', np.shape(dx_b0),\n",
        "        'dy_b0 : ', np.shape(dy_b0),'u_b0 : ', np.shape(u_b0) )\n",
        "\n",
        "\n",
        "  # Boundary condition - left side <--- 151 x 16 = (left boubary space grid points x timesteps)\n",
        "  t_b1 = t_star[x_star==x_star.min()][:,None]\n",
        "  x_b1 = x_star[x_star == x_star.min()][:,None]\n",
        "  y_b1 = y_star[x_star == x_star.min()][:,None]\n",
        "  dx_b1 = dx_star[x_star == x_star.min()][:,None]\n",
        "  dy_b1 = dy_star[x_star == x_star.min()][:,None]\n",
        "  X_b1 = np.concatenate([x_b1,y_b1,t_b1,dx_b1,dy_b1],1)  # concatenate x_b1, y_b1, t_b1, dx_b1, dy_b1\n",
        "  print('X_b1 : ', np.shape(X_b1))\n",
        "  u_b1 = u_star[x_star == x_star.min()][:,None]\n",
        "  print('t_b1 : ', np.shape(t_b1),'x_b1 : ', np.shape(x_b1),\n",
        "        'y_b1 : ', np.shape(y_b1),'dx_b1 : ', np.shape(dx_b1),\n",
        "        'dy_b1 : ', np.shape(dy_b1),'u_b1 : ', np.shape(u_b1))\n",
        "\n",
        "  # Boundary condition - right side <--- 151 x 16 = (right boubary space grid points x timesteps)\n",
        "  t_b2 = t_star[x_star==x_star.max()][:,None]\n",
        "  x_b2 = x_star[x_star == x_star.max()][:,None]\n",
        "  y_b2 = y_star[x_star == x_star.max()][:,None]\n",
        "  dx_b2 = dx_star[x_star == x_star.max()][:,None]\n",
        "  dy_b2 = dy_star[x_star == x_star.max()][:,None]\n",
        "  X_b2 = np.concatenate([x_b2,y_b2,t_b2,dx_b2,dy_b2],1)  # concatenate  x_b2, y_b2, t_b2, dx_b2, dy_b2\n",
        "  print('X_b2 : ', np.shape(X_b2))\n",
        "  u_b2 = u_star[x_star == x_star.max()][:,None]\n",
        "  print('t_b2 : ', np.shape(t_b2),'x_b2 : ', np.shape(x_b2),\n",
        "        'y_b2 : ', np.shape(y_b2),'dx_b2 : ', np.shape(dx_b2),\n",
        "        'dy_b2 : ', np.shape(dy_b2),'u_b2 : ', np.shape(u_b2))\n",
        "\n",
        "  # Boundary condition - bottom side <--- 151 x 16 = (bottom boubary space grid points x timesteps)\n",
        "  t_b3 = t_star[y_star==y_star.min()][:,None]\n",
        "  x_b3 = x_star[y_star == y_star.min()][:,None]\n",
        "  y_b3 = y_star[y_star == y_star.min()][:,None]\n",
        "  dx_b3 = dx_star[y_star == y_star.min()][:,None]\n",
        "  dy_b3 = dy_star[y_star == y_star.min()][:,None]\n",
        "  X_b3 = np.concatenate([x_b3,y_b3,t_b3,dx_b3,dy_b3],1)  # concatenate x_b3, y_b3, t_b3, dx_b3, dy_b3\n",
        "  print('X_b3 : ', np.shape(X_b3))\n",
        "  u_b3 = u_star[y_star == y_star.min()][:,None]\n",
        "  print('t_b3 : ', np.shape(t_b3),'x_b3 : ', np.shape(x_b3),\n",
        "        'y_b3 : ', np.shape(y_b3),'dx_b3 : ', np.shape(dx_b3),\n",
        "        'dy_b3 : ', np.shape(dy_b3),'u_b3 : ', np.shape(u_b3))\n",
        "\n",
        "  # Boundary condition - top side <--- 151 x 16 = (top boubary space grid points x timesteps)\n",
        "  t_b4 = t_star[y_star == y_star.max()][:,None]\n",
        "  x_b4 = x_star[y_star == y_star.max()][:,None]\n",
        "  y_b4 = y_star[y_star == y_star.max()][:,None]\n",
        "  dx_b4 = dx_star[y_star == y_star.max()][:,None]\n",
        "  dy_b4 = dy_star[y_star == y_star.max()][:,None]\n",
        "  X_b4 = np.concatenate([x_b4,y_b4,t_b4,dx_b4,dy_b4],1)  # concatenate x_b4, y_b4, t_b4, dx_b4, dy_b4\n",
        "  print('X_b4 : ', np.shape(X_b4))\n",
        "  u_b4 = u_star[y_star == y_star.max()][:,None]\n",
        "  print('t_b4 : ', np.shape(t_b4),'x_b4 : ', np.shape(x_b4),\n",
        "        'y_b4 : ', np.shape(y_b4),'dx_b4 : ', np.shape(dx_b4),\n",
        "        'dy_b4 : ', np.shape(dy_b4),'u_b4 : ', np.shape(u_b4))\n",
        "\n",
        "\n",
        "  #-----------------Initial condition data points-------------------------------\n",
        "  all_X_u_ic_train = np.vstack([X_b0])  # (,5) = (x,y,t,dx,dy)\n",
        "  print('all_X_u_ic_train : ', np.shape(all_X_u_ic_train))\n",
        "  all_u_ic_train = np.vstack([u_b0]) #\n",
        "  print('all_u_ic_train : ', np.shape(all_u_ic_train))\n",
        "\n",
        "  #choose random N_u_ic points for training for IC\n",
        "  idx = np.random.choice(all_X_u_ic_train.shape[0], N_u_ic, replace=False)\n",
        "\n",
        "  X_u_ic_train = all_X_u_ic_train[idx,:] # choose indices from set 'idx' (x,t)\n",
        "  print('X_u_ic_train from random sampling : ', np.shape(X_u_ic_train))\n",
        "  u_ic_train = all_u_ic_train[idx,:]\n",
        "  print('u_ic_train from random sampling : ', np.shape(u_ic_train))\n",
        "\n",
        "  #-------------------Boundary condition data points----------------------------\n",
        "\n",
        "  all_X_u_bc_train = np.vstack([X_b1, X_b2, X_b3, X_b4])  # (,5) = (x,y,t,dx,dy)\n",
        "  print('all_X_u_bc_train : ', np.shape(all_X_u_bc_train))\n",
        "  all_u_bc_train = np.vstack([u_b1, u_b2, u_b3, u_b4]) #\n",
        "  print('all_u_bc_train : ', np.shape(all_u_bc_train))\n",
        "\n",
        "  #choose random N_u_bc points for training at boundary points\n",
        "  idx = np.random.choice(all_X_u_bc_train.shape[0], N_u_bc, replace=False)\n",
        "\n",
        "  X_u_bc_train = all_X_u_bc_train[idx,:] # choose indices from set 'idx' (x,t)\n",
        "  print('X_u_bc_train from random sampling : ', np.shape(X_u_bc_train))\n",
        "  u_bc_train = all_u_bc_train[idx,:]\n",
        "  print('u_bc_train from random sampling : ', np.shape(u_bc_train))\n",
        "\n",
        "  #--------------------PDE data points------------------------------------------\n",
        "  # Random sampling for PDE points as well\n",
        "  idx = np.random.choice(t_star.shape[0], N_pde, replace=False)\n",
        "  t_pde_train = t_star[idx,:]\n",
        "  x_pde_train = x_star[idx,:]\n",
        "  y_pde_train = y_star[idx,:]\n",
        "  dx_pde_train = dx_star[idx,:]\n",
        "  dy_pde_train = dy_star[idx,:]\n",
        "  u_pde_train = u_star[idx,:]\n",
        "  print('t_pde_train : ',np.shape(t_pde_train), 'x_pde_train : ', np.shape(x_pde_train), 'y_pde_train : ',np.shape(y_pde_train),\n",
        "        'dx_pde_train : ',np.shape(dx_pde_train), 'dy_pde_train : ',np.shape(dy_pde_train),'u_pde_train : ',np.shape(u_pde_train))\n",
        "\n",
        "  X_pde_train = np.hstack([x_pde_train, y_pde_train, t_pde_train, dx_pde_train, dy_pde_train])\n",
        "  # adding source point\n",
        "  source_point = np.array([Lx/2,Ly/2, 3*Tex, 0.2,0.2])\n",
        "  X_pde_train = np.vstack([X_pde_train,source_point])\n",
        "  print('X_f_train from random sampling : ', np.shape(X_pde_train))\n",
        "\n",
        "\n",
        "  return X_pde_train, u_pde_train, X_u_ic_train, u_ic_train, X_u_bc_train, u_bc_train"
      ],
      "metadata": {
        "id": "SemrVmurFH2P"
      },
      "execution_count": null,
      "outputs": []
    },
    {
      "cell_type": "markdown",
      "source": [
        "**4. Parametric PINN class (scaled)**"
      ],
      "metadata": {
        "id": "ViYkWc93Kbh-"
      }
    },
    {
      "cell_type": "code",
      "source": [
        "class ParametricModel(tf.Module):\n",
        "\n",
        "  def __init__(self, layers, name=None):\n",
        "    self.W = [] # weights and biases <----- initializing the array\n",
        "    self.parameters = 0 # total number of parameters <----- initializing the variable\n",
        "\n",
        "    for i in range(len(layers)-1):\n",
        "      input_dim = layers[i]\n",
        "      output_dim = layers[i+1]\n",
        "\n",
        "      # Xavier standard deviation\n",
        "      std_dv = np.sqrt((2.0/(input_dim + output_dim)))\n",
        "\n",
        "      # weights = normal distribution*Xavier standard deviation + 0\n",
        "      w = tf.random.normal([input_dim, output_dim], dtype='float64')*std_dv\n",
        "\n",
        "      w = tf.Variable(w,trainable=True,name='w'+str(i+1))\n",
        "\n",
        "      b = tf.Variable(tf.cast(tf.zeros([output_dim]),dtype='float64'), trainable=True,name='b'+str(i+1))\n",
        "\n",
        "      self.W.append(w)\n",
        "      self.W.append(b)\n",
        "\n",
        "      self.parameters += input_dim*output_dim + output_dim\n",
        "\n",
        "  def get_weights(self):\n",
        "    parameters_1d = [] # [.....W_i,b_i,.......]\n",
        "    for i in range(len(layers)-1):\n",
        "      w_1d = tf.reshape(self.W[2*i],[-1]) # flatten weights\n",
        "      b_1d = tf.reshape(self.W[2*i+1],[-1]) # flatten biases\n",
        "\n",
        "      parameters_1d = tf.concat([parameters_1d, w_1d],axis=0) # concat weights\n",
        "      parameters_1d = tf.concat([parameters_1d, b_1d],axis=0) # concat biases\n",
        "\n",
        "    return parameters_1d\n",
        "\n",
        "\n",
        "  def set_weights(self,parameters): # paramters = [.....W_i,b_i,.......]\n",
        "    for i in range(len(layers)-1):\n",
        "      shape_w = tf.shape(self.W[2*i]).numpy() # shape of weight tensor\n",
        "      size_w = tf.size(self.W[2*i]).numpy() # size of weight tensor\n",
        "\n",
        "      shape_b = tf.shape(self.W[2*i+1]).numpy() # shape of bias tensor\n",
        "      size_b = tf.size(self.W[2*i+1]).numpy() # size of bias tensor\n",
        "\n",
        "      pick_w = parameters[0:size_w] # pick the weights\n",
        "      self.W[2*i].assign(tf.reshape(pick_w,shape_w)) # assign\n",
        "      parameters = np.delete(parameters, np.arange(size_w),0) # delete\n",
        "\n",
        "      pick_b = parameters[0:size_b] # pick the biases\n",
        "      self.W[2*i+1].assign(tf.reshape(pick_b,shape_b)) # assign\n",
        "      parameters = np.delete(parameters, np.arange(size_b),0) # delete\n",
        "\n",
        " ## HERE YOU BUILD YOUR NETWORK - SCALING INPUT AND OUTPUT\n",
        "  def evaluate(self,x):  # x - inputs of neurons\n",
        "    #print('Network input before scaling : ',np.shape(x), x)\n",
        "    x = 2*((x-lb_input)/(ub_input - lb_input))-1 # if x = [100,5] then a = [100,5], #feature scaling\n",
        "    #print('Network input : ',np.shape(x), x)\n",
        "    a = x\n",
        "\n",
        "    for i in range(len(layers)-1):\n",
        "      z = tf.add(tf.matmul(a,self.W[2*i]), self.W[2*i+1])\n",
        "      #print('z : ', np.shape(z), 'in layer i : ',i)\n",
        "      a = tf.nn.tanh(z)\n",
        "      #print('a : ', np.shape(a), 'in layer i : ',i)\n",
        "\n",
        "    # For regression, no activation to last layer\n",
        "    #print('Network output before re-scaling : ',np.shape(a), a)\n",
        "    a = (ub_output-lb_output)*((a+1)/2) + lb_output\n",
        "    #print('a_last layer : ', np.shape(a), a)\n",
        "    return a  # output of the network; y = [100,1]\n",
        "\n",
        "  def loss_IC(self,x,y): # x = [100,5]   x - network output, y = true values\n",
        "    loss_u_ic = tf.reduce_mean(tf.square(y-self.evaluate(x)))  # y_cap[100,1] - y_true[100,1]\n",
        "\n",
        "    # implementing du_dt IC\n",
        "    g = tf.Variable(x, dtype='float64', trainable=False) # (6000, 5)\n",
        "    x_f = g[:,0:1] # (6000, 1)\n",
        "    y_f = g[:,1:2] # (6000, 1)\n",
        "    t_f = g[:,2:3] # (6000, 1)\n",
        "    dx_f = g[:,3:4] # (6000, 1)\n",
        "    dy_f = g[:,4:5] # (6000, 1)\n",
        "    #----------------------------------------------\n",
        "    with tf.GradientTape(persistent=True) as tape:\n",
        "      tape.watch(t_f)\n",
        "      g = tf.stack([x_f[:,0], y_f[:,0], t_f[:,0], dx_f[:,0],dy_f[:,0]],axis=1) # (6000, 5)\n",
        "      z  = self.evaluate(g) # passing PDE points into network#\n",
        "\n",
        "    u_t = tape.gradient(z,t_f)\n",
        "    #print('u_t: ', tf.shape(u_t))\n",
        "\n",
        "    loss_du_ic = tf.reduce_mean(tf.square(y-u_t))  # y_cap[100,1] - y_true[100,1]\n",
        "\n",
        "    loss_ic = loss_u_ic + loss_du_ic\n",
        "\n",
        "    return loss_ic\n",
        "\n",
        "  def loss_BC(self,x,y): # x = [100,5]   x - network output, y = true values\n",
        "    loss_bc = tf.reduce_mean(tf.square(y-self.evaluate(x)))  # y_cap[100,1] - y_true[100,1]\n",
        "    return loss_bc\n",
        "\n",
        "\n",
        "  def excitation(self,x,y,t,source_val): # Excitation source\n",
        "\n",
        "    excitation_center = (Lx/2, Ly/2)  # center of excitation source\n",
        "    # Vamp = tf.constant(value=1e-8 , dtype='float64')# amplitude of force excitation\n",
        "    # fex = tf.constant(value=120000 , dtype='float64') # frequency in Hz used in excitation\n",
        "    # cycles = tf.constant(value=3 , dtype='float64') # 5 full periods make up the sine burst excitation\n",
        "    # Tex = 1/fex # time period of the excitation [s]\n",
        "    # excitation_duration = Tex*cycles\n",
        "    # #print('excitation_duration : ', excitation_duration)\n",
        "\n",
        "\n",
        "    x_dist = x.numpy().all() - excitation_center[0]\n",
        "    y_dist = y.numpy().all() - excitation_center[0]\n",
        "    r = np.sqrt(x_dist**2 + y_dist**2)\n",
        "    #print('radius : ', r)\n",
        "    excitation_radius = 1e-9  # Set the excitation radius - how much does the excitation spread\n",
        "\n",
        "    excitation = source_val\n",
        "    #print('excitation : ', np.shape(excitation))\n",
        "    return excitation if r < excitation_radius else 0.0\n",
        "\n",
        "\n",
        "  def loss_PDE(self,x_to_train_f): # x_to_train_f = g = (6000, 5) - (x,y,t,dx,dy)\n",
        "    g = tf.Variable(x_to_train_f, dtype='float64', trainable=False) # (6000, 5)\n",
        "    #print('g in beginning : ', np.shape(g))\n",
        "\n",
        "    #--------------------Material parameters-----------------------------------\n",
        "    ''' E = 120 GPa and density = 7900 kg/m^3, c^2 = E/density'''\n",
        "    E = 120e+9 # Young's modulus in N/m^2\n",
        "    rho = 7900 # density in kg\n",
        "    c = 4773.343 # velocity of wave propagating in medium in m/s\n",
        "\n",
        "\n",
        "    #------------------ Known damage parameters---------------------------------\n",
        "    A = tf.constant(value=0.95, dtype='float64')\n",
        "    # x_0 = y_0  = tf.constant(value=0.12, dtype='float64')\n",
        "    sigma_x = sigma_y = tf.constant(value=0.03, dtype='float64')\n",
        "\n",
        "    x_pde = g[:,0:1] # (6000, 1)\n",
        "    y_pde = g[:,1:2] # (6000, 1)\n",
        "    t_pde = g[:,2:3] # (6000, 1)\n",
        "    dx_pde = g[:,3:4] # (6000, 1)\n",
        "    dy_pde = g[:,4:5] # (6000, 1)\n",
        "    #print('x_f : ', np.shape(x_f), 'y_f : ', np.shape(y_f), 't_f : ', np.shape(t_f) )\n",
        "\n",
        "    #To compute multiple gradients over the same computation, create a gradient tape with persistent=True\n",
        "    with tf.GradientTape(persistent=True) as tape:\n",
        "      tape.watch(x_pde)\n",
        "      tape.watch(y_pde)\n",
        "      tape.watch(t_pde)\n",
        "      tape.watch(dx_pde)\n",
        "      tape.watch(dy_pde)\n",
        "\n",
        "      with tf.GradientTape(persistent=True) as doubletape:\n",
        "        doubletape.watch(x_pde)\n",
        "        doubletape.watch(y_pde)\n",
        "        doubletape.watch(t_pde)\n",
        "        doubletape.watch(dx_pde)\n",
        "        doubletape.watch(dy_pde)\n",
        "\n",
        "        g = tf.stack([x_pde[:,0], y_pde[:,0], t_pde[:,0], dx_pde[:,0], dy_pde[:,0]],axis=1) # (6000, 5)\n",
        "        #print('g: ', np.shape(g))\n",
        "\n",
        "        z  = self.evaluate(g) # passing PDE points into network#\n",
        "        #print('Network output z : ',tf.shape(z))\n",
        "\n",
        "        # Damage calculation\n",
        "        x_part = ((x_pde - dx_pde)**2)/(2*sigma_x**2)\n",
        "        y_part = ((y_pde - dy_pde)**2)/(2*sigma_y**2)\n",
        "        damage = A*tf.exp(-(x_part + y_part)) # (6000,1)\n",
        "        #damage = tf.convert_to_tensor(damage, dtype=tf.float32)\n",
        "        #print('damage : ',tf.shape(damage), damage )\n",
        "\n",
        "      u_x = doubletape.gradient(z,x_pde)\n",
        "      #print('u_x : ', tf.shape(u_x))\n",
        "\n",
        "      u_y = doubletape.gradient(z,y_pde)\n",
        "      #print('u_y: ', tf.shape(u_y))\n",
        "\n",
        "      u_t = doubletape.gradient(z,t_pde)\n",
        "      #print('u_t: ', tf.shape(u_t))\n",
        "\n",
        "      d_x = doubletape.gradient(damage,x_pde)\n",
        "      #print('d_x: ', tf.shape(d_x), d_x)\n",
        "\n",
        "      d_y = doubletape.gradient(damage,y_pde)\n",
        "      #print('d_y: ', tf.shape(d_y))\n",
        "\n",
        "    u_xx = tape.gradient(u_x,x_pde)\n",
        "    #print('u_xx : ', tf.shape(u_xx))\n",
        "\n",
        "    u_yy = tape.gradient(u_y,y_pde)\n",
        "    #print('u_yy : ', tf.shape(u_yy))\n",
        "\n",
        "    u_tt = tape.gradient(u_t, t_pde)\n",
        "    #print('u_tt : ', tf.shape(u_tt))\n",
        "\n",
        "    del tape # Drop the reference to the tape\n",
        "\n",
        "\n",
        "    # source location\n",
        "    x_s = y_s = tf.constant(value=0.1, dtype='float64')\n",
        "    sigma_s = tf.constant(value=0.001, dtype='float64')\n",
        "    x_part_s = ((x_pde - x_s)**2)/(2*sigma_s**2)\n",
        "    y_part_s = ((y_pde - y_s)**2)/(2*sigma_s**2)\n",
        "    source_location = tf.exp(-(x_part_s + y_part_s)) # (6000,1)\n",
        "\n",
        "\n",
        "    pde = u_tt - (c**2)*(((1-damage)*(u_xx + u_yy)) - (d_x*u_x + d_y*u_y))  - (1/rho)*self.excitation(x_pde[:,0], y_pde[:,0], t_pde[:,0],source_value_arr)\n",
        "    #pde = u_tt - (c**2)*(((1-damage)*(u_xx + u_yy)) - (d_x*u_x + d_y*u_y))  - (1/rho)*source_value_arr*source_location\n",
        "\n",
        "    #print('f : ', tf.shape(f))\n",
        "\n",
        "    loss_pde = tf.reduce_mean(tf.square(pde))\n",
        "\n",
        "    #print('loss_f : ',tf.shape(loss_f))\n",
        "\n",
        "    return loss_pde, pde\n",
        "\n",
        "\n",
        "\n",
        "  def loss(self,x_ic,y_ic,x_bc,y_bc,g): # x = X_u_train[100,2] (x,t), y = u_train[100,1] (u), g = X_f_train[10100,2] (x,t)\n",
        "    loss_u_ic = (1e+42)*self.loss_IC(x_ic,y_ic)\n",
        "    loss_u_bc = (1e+50)*self.loss_BC(x_bc,y_bc)\n",
        "    loss_pde = self.loss_PDE(g)  #(1e+35)*\n",
        "    # loss_data = self.loss_DATA(g,real_u)\n",
        "\n",
        "    loss = loss_u_ic + loss_u_bc + loss_pde\n",
        "\n",
        "    return loss, loss_u_ic, loss_u_bc, loss_pde\n",
        "\n",
        "  def optimizerfunc(self,parameters): # parameters = init_params = PINN.get_weights().numpy()\n",
        "    self.set_weights(parameters)\n",
        "\n",
        "    with tf.GradientTape() as tape:\n",
        "      tape.watch(self.trainable_variables) # dig a little more about this\n",
        "\n",
        "      loss_val, loss_u_ic, loss_u_bc, loss_f = self.loss(X_u_ic_train, u_ic_train, X_u_bc_train, u_bc_train, X_pde_train)\n",
        "\n",
        "      #loss_value_plotting = self.loss_value_plot.append(loss_val)\n",
        "\n",
        "      #print(self.loss_value_plot)\n",
        "\n",
        "    grads = tape.gradient(loss_val, self.trainable_variables)\n",
        "\n",
        "    del tape\n",
        "\n",
        "    grads_1d = [] # flatten grads\n",
        "\n",
        "    for i in range(len(layers)-1):\n",
        "      grads_w_1d = tf.reshape(grads[2*i],[-1]) #flatten weights\n",
        "      grads_b_1d = tf.reshape(grads[2*i+1],[-1]) #flatten biases\n",
        "\n",
        "      grads_1d = tf.concat([grads_1d, grads_w_1d], 0) #concat grad_weights\n",
        "      grads_1d = tf.concat([grads_1d, grads_b_1d], 0) #concat grad_bias\n",
        "\n",
        "    return loss_val.numpy(), grads_1d.numpy()\n",
        "\n",
        "  def optimizer_callback(self,parameters):\n",
        "\n",
        "      loss_value, loss_u_ic, loss_u_bc, loss_pde = self.loss(X_u_ic_train, u_ic_train, X_u_bc_train, u_bc_train, X_pde_train)\n",
        "\n",
        "      tf.print(loss_value, loss_u_ic, loss_u_bc, loss_pde)\n",
        "\n",
        "  def predict(self, x_test,y_test,t_test,dx_test,dy_test):\n",
        "    X_u_test = np.stack([x_test[:,0], y_test[:,0], t_test[:,0], dx_test[:,0], dy_test[:,0]],axis=1)\n",
        "    print(np.shape(X_u_test))\n",
        "    u_pred = self.evaluate(X_u_test)\n",
        "    #error_vec = np.linalg.norm((u_star-u_pred),2)/np.linalg.norm(u_star,2)\n",
        "\n",
        "    return u_pred"
      ],
      "metadata": {
        "id": "HANdAnQ9Khge"
      },
      "execution_count": null,
      "outputs": []
    },
    {
      "cell_type": "markdown",
      "source": [
        "**5.Plotting**"
      ],
      "metadata": {
        "id": "4LS6xmY4ZBaU"
      }
    },
    {
      "cell_type": "code",
      "source": [
        "def figsize(scale, nplots = 1):\n",
        "    fig_width_pt = 390.0                          # Get this from LaTeX using \\the\\textwidth\n",
        "    inches_per_pt = 1.0/72.27                       # Convert pt to inch\n",
        "    golden_mean = (np.sqrt(5.0)-1.0)/2.0            # Aesthetic ratio (you could change this)\n",
        "    fig_width = fig_width_pt*inches_per_pt*scale    # width in inches\n",
        "    fig_height = nplots*fig_width*golden_mean              # height in inches\n",
        "    fig_size = [fig_width,fig_height]\n",
        "    return fig_size\n",
        "\n",
        "pgf_with_latex = {                      # setup matplotlib to use latex for output\n",
        "    \"pgf.texsystem\": \"pdflatex\",        # change this if using xetex or lautex\n",
        "    \"text.usetex\": True,                # use LaTeX to write all text\n",
        "    \"font.family\": \"serif\",\n",
        "    \"font.serif\": [],                   # blank entries should cause plots to inherit fonts from the document\n",
        "    \"font.sans-serif\": [],\n",
        "    \"font.monospace\": [],\n",
        "    \"axes.labelsize\": 10,               # LaTeX default is 10pt font.\n",
        "    \"font.size\": 10,\n",
        "    \"legend.fontsize\": 8,               # Make the legend/label fonts a little smaller\n",
        "    \"xtick.labelsize\": 8,\n",
        "    \"ytick.labelsize\": 8,\n",
        "    \"figure.figsize\": figsize(1.0),     # default fig size of 0.9 textwidth\n",
        "    \"pgf.preamble\": [\n",
        "        r\"\\usepackage[utf8x]{inputenc}\",    # use utf8 fonts becasue your computer can handle it :)\n",
        "        r\"\\usepackage[T1]{fontenc}\",        # plots will be generated using this preamble\n",
        "        ]\n",
        "    }\n",
        "#mpl.rcParams.update(pgf_with_latex)\n",
        "\n",
        "import matplotlib.pyplot as plt\n",
        "\n",
        "# I make my own newfig and savefig functions\n",
        "def newfig(width, nplots = 1):\n",
        "    fig = plt.figure(figsize=figsize(width, nplots))\n",
        "    ax = fig.add_subplot(111)\n",
        "    return fig, ax\n",
        "\n",
        "def savefig(filename, crop = True):\n",
        "    if crop == True:\n",
        "#        plt.savefig('{}.pgf'.format(filename), bbox_inches='tight', pad_inches=0)\n",
        "        plt.savefig('{}.pdf'.format(filename), bbox_inches='tight', pad_inches=0)\n",
        "        plt.savefig('{}.eps'.format(filename), bbox_inches='tight', pad_inches=0)\n",
        "    else:\n",
        "#        plt.savefig('{}.pgf'.format(filename))\n",
        "        plt.savefig('{}.pdf'.format(filename))\n",
        "        plt.savefig('{}.eps'.format(filename))\n"
      ],
      "metadata": {
        "id": "V2gEaC1tZHud"
      },
      "execution_count": null,
      "outputs": []
    },
    {
      "cell_type": "markdown",
      "source": [
        "**6. Main execution**"
      ],
      "metadata": {
        "id": "FhPQVrE6KUqG"
      }
    },
    {
      "cell_type": "code",
      "source": [
        "N_u_ic = 1000\n",
        "N_u_bc =  1000 # Total number of data points for 'u'\n",
        "N_pde = N_data = 5000 # Total number of PDE collocation points and corresponding data points\n",
        "\n",
        "X_pde_train, u_pde_train, X_u_ic_train, u_ic_train, X_u_bc_train, u_bc_train = trainingdata(N_u_ic, N_u_bc, N_pde ,N_data)\n"
      ],
      "metadata": {
        "colab": {
          "base_uri": "https://localhost:8080/"
        },
        "id": "5CY-HEPDBYVe",
        "outputId": "62206fa1-3c6a-47d7-fa33-a230490299fd"
      },
      "execution_count": null,
      "outputs": [
        {
          "output_type": "stream",
          "name": "stdout",
          "text": [
            "X_b0 :  (22801, 5)\n",
            "t_b0 :  (22801, 1) x_b0 :  (22801, 1) y_b0 :  (22801, 1) dx_b0 :  (22801, 1) dy_b0 :  (22801, 1) u_b0 :  (22801, 1)\n",
            "X_b1 :  (2416, 5)\n",
            "t_b1 :  (2416, 1) x_b1 :  (2416, 1) y_b1 :  (2416, 1) dx_b1 :  (2416, 1) dy_b1 :  (2416, 1) u_b1 :  (2416, 1)\n",
            "X_b2 :  (2416, 5)\n",
            "t_b2 :  (2416, 1) x_b2 :  (2416, 1) y_b2 :  (2416, 1) dx_b2 :  (2416, 1) dy_b2 :  (2416, 1) u_b2 :  (2416, 1)\n",
            "X_b3 :  (2416, 5)\n",
            "t_b3 :  (2416, 1) x_b3 :  (2416, 1) y_b3 :  (2416, 1) dx_b3 :  (2416, 1) dy_b3 :  (2416, 1) u_b3 :  (2416, 1)\n",
            "X_b4 :  (2416, 5)\n",
            "t_b4 :  (2416, 1) x_b4 :  (2416, 1) y_b4 :  (2416, 1) dx_b4 :  (2416, 1) dy_b4 :  (2416, 1) u_b4 :  (2416, 1)\n",
            "all_X_u_ic_train :  (22801, 5)\n",
            "all_u_ic_train :  (22801, 1)\n",
            "X_u_ic_train from random sampling :  (1000, 5)\n",
            "u_ic_train from random sampling :  (1000, 1)\n",
            "all_X_u_bc_train :  (9664, 5)\n",
            "all_u_bc_train :  (9664, 1)\n",
            "X_u_bc_train from random sampling :  (1000, 5)\n",
            "u_bc_train from random sampling :  (1000, 1)\n",
            "t_pde_train :  (5000, 1) x_pde_train :  (5000, 1) y_pde_train :  (5000, 1) dx_pde_train :  (5000, 1) dy_pde_train :  (5000, 1) u_pde_train :  (5000, 1)\n",
            "X_f_train from random sampling :  (5001, 5)\n"
          ]
        }
      ]
    },
    {
      "cell_type": "code",
      "source": [
        "X_pde_train_check = np.hstack([x_star, y_star, t_star, dx_star, dy_star])\n",
        "print(np.shape(X_pde_train_check))"
      ],
      "metadata": {
        "colab": {
          "base_uri": "https://localhost:8080/"
        },
        "id": "YZBjf15Ugg_T",
        "outputId": "0cf7e073-8282-4b9f-b357-c84b889b6fb0"
      },
      "execution_count": null,
      "outputs": [
        {
          "output_type": "stream",
          "name": "stdout",
          "text": [
            "(364816, 5)\n"
          ]
        }
      ]
    },
    {
      "cell_type": "code",
      "source": [
        "\n",
        "x_dist = x.numpy().all() - excitation_center[0]\n",
        "y_dist = y.numpy().all() - excitation_center[0]\n",
        "r = np.sqrt(x_dist**2 + y_dist**2)"
      ],
      "metadata": {
        "id": "pa0ljU8VPR6h"
      },
      "execution_count": null,
      "outputs": []
    },
    {
      "cell_type": "code",
      "source": [
        "# Calculating source vector\n",
        "source_time = X_pde_train[:,2][:,None]\n",
        "#print(np.shape(source_time))\n",
        "source_value_arr = np.array([])\n",
        "\n",
        "for t_i in source_time:\n",
        "  #print(i)\n",
        "  if  t_i >= 0 and t_i <= 3*Tex:\n",
        "    Vamp = tf.constant(value=1e-8 , dtype='float64')# amplitude of force excitation\n",
        "    fex = tf.constant(value=120000 , dtype='float64') # frequency in Hz used in excitation\n",
        "    cycles = tf.constant(value=5 , dtype='float64') # 5 full periods make up the sine burst excitation\n",
        "    Tex = 1/fex # time period of the excitation [s]\n",
        "\n",
        "    excitation = Vamp * tf.sin(2*np.pi*fex*t_i) * tf.sin(np.pi*fex/cycles*t_i)**2#\n",
        "    #print(excitation)\n",
        "    source_value_arr = np.append(source_value_arr, excitation)\n",
        "    #print(source_value_arr, np.shape(source_value_arr))\n",
        "  else:\n",
        "    source_value_arr = np.append(source_value_arr, 0.0)\n",
        "\n",
        "source_value_arr = source_value_arr[:,None]\n",
        "#print(np.shape(source_value_arr))"
      ],
      "metadata": {
        "id": "c-fRSY4xcJPi"
      },
      "execution_count": null,
      "outputs": []
    },
    {
      "cell_type": "code",
      "source": [
        "Vamp = tf.constant(value=1e-8 , dtype='float64')# amplitude of force excitation\n",
        "fex = tf.constant(value=120000 , dtype='float64') # frequency in Hz used in excitation\n",
        "cycles = tf.constant(value=5 , dtype='float64') # 5 full periods make up the sine burst excitation\n",
        "Tex = 1/fex # time period of the excitation [s]\n",
        "\n",
        "source_value_arr_2 = Vamp * tf.sin(2*np.pi*fex*source_time) * tf.sin(np.pi*fex/cycles*source_time)**2\n",
        "print(np.linalg.norm(source_value_arr-source_value_arr_2))"
      ],
      "metadata": {
        "colab": {
          "base_uri": "https://localhost:8080/"
        },
        "id": "DB7UpNhpcoCY",
        "outputId": "d7962925-98c0-4783-ff68-c89c8d09c335"
      },
      "execution_count": null,
      "outputs": [
        {
          "output_type": "stream",
          "name": "stdout",
          "text": [
            "1.557742963277739e-07\n"
          ]
        }
      ]
    },
    {
      "cell_type": "code",
      "source": [
        "print(source_value_arr)"
      ],
      "metadata": {
        "colab": {
          "base_uri": "https://localhost:8080/"
        },
        "id": "P-Xn_VpJg-k8",
        "outputId": "c78a59b9-6130-48f0-b783-2b919323f87c"
      },
      "execution_count": null,
      "outputs": [
        {
          "output_type": "stream",
          "name": "stdout",
          "text": [
            "[[ 0.00000000e+00]\n",
            " [-9.75528258e-09]\n",
            " [ 1.56395870e-09]\n",
            " ...\n",
            " [ 1.56395870e-09]\n",
            " [ 2.91956876e-10]\n",
            " [-6.64622062e-24]]\n"
          ]
        }
      ]
    },
    {
      "cell_type": "code",
      "source": [
        "# network architecture\n",
        "layers = np.array([5,16,16,16,16,1])\n",
        "\n",
        "PINN = ParametricModel(layers)\n",
        "\n",
        "network_output = PINN.evaluate(X_u_ic_train)"
      ],
      "metadata": {
        "id": "PNR0vMC7hG7P"
      },
      "execution_count": null,
      "outputs": []
    },
    {
      "cell_type": "code",
      "source": [
        "l_p, pde_v = PINN.loss_PDE(X_pde_train)"
      ],
      "metadata": {
        "id": "3MWVJG_ffaX5"
      },
      "execution_count": null,
      "outputs": []
    },
    {
      "cell_type": "code",
      "source": [
        "pde_v"
      ],
      "metadata": {
        "colab": {
          "base_uri": "https://localhost:8080/"
        },
        "id": "siJXvue2fjXq",
        "outputId": "b991457c-ae95-410b-cf63-71f742033e5c"
      },
      "execution_count": null,
      "outputs": [
        {
          "output_type": "execute_result",
          "data": {
            "text/plain": [
              "<tf.Tensor: shape=(5001, 1), dtype=float64, numpy=\n",
              "array([[ 1.24856271e-16],\n",
              "       [-1.30064752e-16],\n",
              "       [-8.95621658e-18],\n",
              "       ...,\n",
              "       [-1.93305513e-16],\n",
              "       [-3.83322665e-18],\n",
              "       [ 7.02342080e-17]])>"
            ]
          },
          "metadata": {},
          "execution_count": 69
        }
      ]
    },
    {
      "cell_type": "code",
      "source": [
        "(1e+35)*l_p"
      ],
      "metadata": {
        "colab": {
          "base_uri": "https://localhost:8080/"
        },
        "id": "Udnwz1V3MOx1",
        "outputId": "af10bf1b-d6e4-4119-8435-9b29b775dc6a"
      },
      "execution_count": null,
      "outputs": [
        {
          "output_type": "execute_result",
          "data": {
            "text/plain": [
              "<tf.Tensor: shape=(), dtype=float64, numpy=2354.302510674489>"
            ]
          },
          "metadata": {},
          "execution_count": 71
        }
      ]
    },
    {
      "cell_type": "code",
      "source": [
        "print(np.linalg.norm(pde_v))"
      ],
      "metadata": {
        "colab": {
          "base_uri": "https://localhost:8080/"
        },
        "id": "WlW85Q7ggJW_",
        "outputId": "4288e210-d1e0-42f5-c6fa-7b41f52b0aea"
      },
      "execution_count": null,
      "outputs": [
        {
          "output_type": "stream",
          "name": "stdout",
          "text": [
            "1.280206927716511e-13\n"
          ]
        }
      ]
    },
    {
      "cell_type": "code",
      "source": [
        "# network architecture\n",
        "layers = np.array([5,16,16,16,16,1])\n",
        "\n",
        "PINN = ParametricModel(layers)\n",
        "\n",
        "#network_output = PINN.evaluate(X_u_ic_train)\n",
        "\n",
        "loss_ic = PINN.loss_IC(X_u_ic_train[:,:], u_ic_train[:,0] )\n",
        "\n",
        "#source = PINN.excitation(X_pde_train[:,0], X_pde_train[:,1], X_pde_train[:,2])\n",
        "\n",
        "init_params = PINN.get_weights().numpy()\n",
        "#print(init_params)\n",
        "\n",
        "start_time = time.time()\n",
        "\n",
        "#network = PINN.evaluate(X_f_train)\n",
        "#Train the model with Scipy L-BFGS optimizer\n",
        "results = scipy.optimize.minimize(fun=PINN.optimizerfunc,\n",
        "                                  x0 = init_params,\n",
        "                                  args=(),\n",
        "                                  method='L-BFGS-B',\n",
        "                                  jac=True,\n",
        "                                  callback=PINN.optimizer_callback,\n",
        "                                  options={'disp':None,\n",
        "                                           'maxcor':200,\n",
        "                                           'ftol':1*np.finfo(float).eps,\n",
        "                                           'gtol':5e-98,\n",
        "                                           'maxfun':50000,\n",
        "                                           'maxiter':500, # Maximum number of iterations.\n",
        "                                           'iprint':0,\n",
        "                                           'maxls':50})  # Maximum number of line search  (per iteration). Default is 20.\n",
        "\n",
        "elapsed = time.time() - start_time\n",
        "print('Training time: %.2f' % (elapsed))\n",
        "\n",
        "print(results)\n",
        "\n",
        "PINN.set_weights(results.x)\n"
      ],
      "metadata": {
        "colab": {
          "base_uri": "https://localhost:8080/",
          "height": 407
        },
        "id": "R-OX2gKjKabA",
        "outputId": "77e67177-b8b5-4623-c68e-7cd75a8e137e"
      },
      "execution_count": null,
      "outputs": [
        {
          "output_type": "error",
          "ename": "InvalidArgumentError",
          "evalue": "ignored",
          "traceback": [
            "\u001b[0;31m---------------------------------------------------------------------------\u001b[0m",
            "\u001b[0;31mInvalidArgumentError\u001b[0m                      Traceback (most recent call last)",
            "\u001b[0;32m<ipython-input-72-9015a886fc19>\u001b[0m in \u001b[0;36m<cell line: 19>\u001b[0;34m()\u001b[0m\n\u001b[1;32m     17\u001b[0m \u001b[0;31m#network = PINN.evaluate(X_f_train)\u001b[0m\u001b[0;34m\u001b[0m\u001b[0;34m\u001b[0m\u001b[0m\n\u001b[1;32m     18\u001b[0m \u001b[0;31m#Train the model with Scipy L-BFGS optimizer\u001b[0m\u001b[0;34m\u001b[0m\u001b[0;34m\u001b[0m\u001b[0m\n\u001b[0;32m---> 19\u001b[0;31m results = scipy.optimize.minimize(fun=PINN.optimizerfunc,\n\u001b[0m\u001b[1;32m     20\u001b[0m                                   \u001b[0mx0\u001b[0m \u001b[0;34m=\u001b[0m \u001b[0minit_params\u001b[0m\u001b[0;34m,\u001b[0m\u001b[0;34m\u001b[0m\u001b[0;34m\u001b[0m\u001b[0m\n\u001b[1;32m     21\u001b[0m                                   \u001b[0margs\u001b[0m\u001b[0;34m=\u001b[0m\u001b[0;34m(\u001b[0m\u001b[0;34m)\u001b[0m\u001b[0;34m,\u001b[0m\u001b[0;34m\u001b[0m\u001b[0;34m\u001b[0m\u001b[0m\n",
            "\u001b[0;32m/usr/local/lib/python3.10/dist-packages/scipy/optimize/_minimize.py\u001b[0m in \u001b[0;36mminimize\u001b[0;34m(fun, x0, args, method, jac, hess, hessp, bounds, constraints, tol, callback, options)\u001b[0m\n\u001b[1;32m    694\u001b[0m                                  **options)\n\u001b[1;32m    695\u001b[0m     \u001b[0;32melif\u001b[0m \u001b[0mmeth\u001b[0m \u001b[0;34m==\u001b[0m \u001b[0;34m'l-bfgs-b'\u001b[0m\u001b[0;34m:\u001b[0m\u001b[0;34m\u001b[0m\u001b[0;34m\u001b[0m\u001b[0m\n\u001b[0;32m--> 696\u001b[0;31m         res = _minimize_lbfgsb(fun, x0, args, jac, bounds,\n\u001b[0m\u001b[1;32m    697\u001b[0m                                callback=callback, **options)\n\u001b[1;32m    698\u001b[0m     \u001b[0;32melif\u001b[0m \u001b[0mmeth\u001b[0m \u001b[0;34m==\u001b[0m \u001b[0;34m'tnc'\u001b[0m\u001b[0;34m:\u001b[0m\u001b[0;34m\u001b[0m\u001b[0;34m\u001b[0m\u001b[0m\n",
            "\u001b[0;32m/usr/local/lib/python3.10/dist-packages/scipy/optimize/_lbfgsb_py.py\u001b[0m in \u001b[0;36m_minimize_lbfgsb\u001b[0;34m(fun, x0, args, jac, bounds, disp, maxcor, ftol, gtol, eps, maxfun, maxiter, iprint, callback, maxls, finite_diff_rel_step, **unknown_options)\u001b[0m\n\u001b[1;32m    303\u001b[0m             \u001b[0miprint\u001b[0m \u001b[0;34m=\u001b[0m \u001b[0mdisp\u001b[0m\u001b[0;34m\u001b[0m\u001b[0;34m\u001b[0m\u001b[0m\n\u001b[1;32m    304\u001b[0m \u001b[0;34m\u001b[0m\u001b[0m\n\u001b[0;32m--> 305\u001b[0;31m     sf = _prepare_scalar_function(fun, x0, jac=jac, args=args, epsilon=eps,\n\u001b[0m\u001b[1;32m    306\u001b[0m                                   \u001b[0mbounds\u001b[0m\u001b[0;34m=\u001b[0m\u001b[0mnew_bounds\u001b[0m\u001b[0;34m,\u001b[0m\u001b[0;34m\u001b[0m\u001b[0;34m\u001b[0m\u001b[0m\n\u001b[1;32m    307\u001b[0m                                   finite_diff_rel_step=finite_diff_rel_step)\n",
            "\u001b[0;32m/usr/local/lib/python3.10/dist-packages/scipy/optimize/_optimize.py\u001b[0m in \u001b[0;36m_prepare_scalar_function\u001b[0;34m(fun, x0, jac, args, bounds, epsilon, finite_diff_rel_step, hess)\u001b[0m\n\u001b[1;32m    330\u001b[0m     \u001b[0;31m# ScalarFunction caches. Reuse of fun(x) during grad\u001b[0m\u001b[0;34m\u001b[0m\u001b[0;34m\u001b[0m\u001b[0m\n\u001b[1;32m    331\u001b[0m     \u001b[0;31m# calculation reduces overall function evaluations.\u001b[0m\u001b[0;34m\u001b[0m\u001b[0;34m\u001b[0m\u001b[0m\n\u001b[0;32m--> 332\u001b[0;31m     sf = ScalarFunction(fun, x0, args, grad, hess,\n\u001b[0m\u001b[1;32m    333\u001b[0m                         finite_diff_rel_step, bounds, epsilon=epsilon)\n\u001b[1;32m    334\u001b[0m \u001b[0;34m\u001b[0m\u001b[0m\n",
            "\u001b[0;32m/usr/local/lib/python3.10/dist-packages/scipy/optimize/_differentiable_functions.py\u001b[0m in \u001b[0;36m__init__\u001b[0;34m(self, fun, x0, args, grad, hess, finite_diff_rel_step, finite_diff_bounds, epsilon)\u001b[0m\n\u001b[1;32m    156\u001b[0m \u001b[0;34m\u001b[0m\u001b[0m\n\u001b[1;32m    157\u001b[0m         \u001b[0mself\u001b[0m\u001b[0;34m.\u001b[0m\u001b[0m_update_fun_impl\u001b[0m \u001b[0;34m=\u001b[0m \u001b[0mupdate_fun\u001b[0m\u001b[0;34m\u001b[0m\u001b[0;34m\u001b[0m\u001b[0m\n\u001b[0;32m--> 158\u001b[0;31m         \u001b[0mself\u001b[0m\u001b[0;34m.\u001b[0m\u001b[0m_update_fun\u001b[0m\u001b[0;34m(\u001b[0m\u001b[0;34m)\u001b[0m\u001b[0;34m\u001b[0m\u001b[0;34m\u001b[0m\u001b[0m\n\u001b[0m\u001b[1;32m    159\u001b[0m \u001b[0;34m\u001b[0m\u001b[0m\n\u001b[1;32m    160\u001b[0m         \u001b[0;31m# Gradient evaluation\u001b[0m\u001b[0;34m\u001b[0m\u001b[0;34m\u001b[0m\u001b[0m\n",
            "\u001b[0;32m/usr/local/lib/python3.10/dist-packages/scipy/optimize/_differentiable_functions.py\u001b[0m in \u001b[0;36m_update_fun\u001b[0;34m(self)\u001b[0m\n\u001b[1;32m    249\u001b[0m     \u001b[0;32mdef\u001b[0m \u001b[0m_update_fun\u001b[0m\u001b[0;34m(\u001b[0m\u001b[0mself\u001b[0m\u001b[0;34m)\u001b[0m\u001b[0;34m:\u001b[0m\u001b[0;34m\u001b[0m\u001b[0;34m\u001b[0m\u001b[0m\n\u001b[1;32m    250\u001b[0m         \u001b[0;32mif\u001b[0m \u001b[0;32mnot\u001b[0m \u001b[0mself\u001b[0m\u001b[0;34m.\u001b[0m\u001b[0mf_updated\u001b[0m\u001b[0;34m:\u001b[0m\u001b[0;34m\u001b[0m\u001b[0;34m\u001b[0m\u001b[0m\n\u001b[0;32m--> 251\u001b[0;31m             \u001b[0mself\u001b[0m\u001b[0;34m.\u001b[0m\u001b[0m_update_fun_impl\u001b[0m\u001b[0;34m(\u001b[0m\u001b[0;34m)\u001b[0m\u001b[0;34m\u001b[0m\u001b[0;34m\u001b[0m\u001b[0m\n\u001b[0m\u001b[1;32m    252\u001b[0m             \u001b[0mself\u001b[0m\u001b[0;34m.\u001b[0m\u001b[0mf_updated\u001b[0m \u001b[0;34m=\u001b[0m \u001b[0;32mTrue\u001b[0m\u001b[0;34m\u001b[0m\u001b[0;34m\u001b[0m\u001b[0m\n\u001b[1;32m    253\u001b[0m \u001b[0;34m\u001b[0m\u001b[0m\n",
            "\u001b[0;32m/usr/local/lib/python3.10/dist-packages/scipy/optimize/_differentiable_functions.py\u001b[0m in \u001b[0;36mupdate_fun\u001b[0;34m()\u001b[0m\n\u001b[1;32m    153\u001b[0m \u001b[0;34m\u001b[0m\u001b[0m\n\u001b[1;32m    154\u001b[0m         \u001b[0;32mdef\u001b[0m \u001b[0mupdate_fun\u001b[0m\u001b[0;34m(\u001b[0m\u001b[0;34m)\u001b[0m\u001b[0;34m:\u001b[0m\u001b[0;34m\u001b[0m\u001b[0;34m\u001b[0m\u001b[0m\n\u001b[0;32m--> 155\u001b[0;31m             \u001b[0mself\u001b[0m\u001b[0;34m.\u001b[0m\u001b[0mf\u001b[0m \u001b[0;34m=\u001b[0m \u001b[0mfun_wrapped\u001b[0m\u001b[0;34m(\u001b[0m\u001b[0mself\u001b[0m\u001b[0;34m.\u001b[0m\u001b[0mx\u001b[0m\u001b[0;34m)\u001b[0m\u001b[0;34m\u001b[0m\u001b[0;34m\u001b[0m\u001b[0m\n\u001b[0m\u001b[1;32m    156\u001b[0m \u001b[0;34m\u001b[0m\u001b[0m\n\u001b[1;32m    157\u001b[0m         \u001b[0mself\u001b[0m\u001b[0;34m.\u001b[0m\u001b[0m_update_fun_impl\u001b[0m \u001b[0;34m=\u001b[0m \u001b[0mupdate_fun\u001b[0m\u001b[0;34m\u001b[0m\u001b[0;34m\u001b[0m\u001b[0m\n",
            "\u001b[0;32m/usr/local/lib/python3.10/dist-packages/scipy/optimize/_differentiable_functions.py\u001b[0m in \u001b[0;36mfun_wrapped\u001b[0;34m(x)\u001b[0m\n\u001b[1;32m    135\u001b[0m             \u001b[0;31m# Overwriting results in undefined behaviour because\u001b[0m\u001b[0;34m\u001b[0m\u001b[0;34m\u001b[0m\u001b[0m\n\u001b[1;32m    136\u001b[0m             \u001b[0;31m# fun(self.x) will change self.x, with the two no longer linked.\u001b[0m\u001b[0;34m\u001b[0m\u001b[0;34m\u001b[0m\u001b[0m\n\u001b[0;32m--> 137\u001b[0;31m             \u001b[0mfx\u001b[0m \u001b[0;34m=\u001b[0m \u001b[0mfun\u001b[0m\u001b[0;34m(\u001b[0m\u001b[0mnp\u001b[0m\u001b[0;34m.\u001b[0m\u001b[0mcopy\u001b[0m\u001b[0;34m(\u001b[0m\u001b[0mx\u001b[0m\u001b[0;34m)\u001b[0m\u001b[0;34m,\u001b[0m \u001b[0;34m*\u001b[0m\u001b[0margs\u001b[0m\u001b[0;34m)\u001b[0m\u001b[0;34m\u001b[0m\u001b[0;34m\u001b[0m\u001b[0m\n\u001b[0m\u001b[1;32m    138\u001b[0m             \u001b[0;31m# Make sure the function returns a true scalar\u001b[0m\u001b[0;34m\u001b[0m\u001b[0;34m\u001b[0m\u001b[0m\n\u001b[1;32m    139\u001b[0m             \u001b[0;32mif\u001b[0m \u001b[0;32mnot\u001b[0m \u001b[0mnp\u001b[0m\u001b[0;34m.\u001b[0m\u001b[0misscalar\u001b[0m\u001b[0;34m(\u001b[0m\u001b[0mfx\u001b[0m\u001b[0;34m)\u001b[0m\u001b[0;34m:\u001b[0m\u001b[0;34m\u001b[0m\u001b[0;34m\u001b[0m\u001b[0m\n",
            "\u001b[0;32m/usr/local/lib/python3.10/dist-packages/scipy/optimize/_optimize.py\u001b[0m in \u001b[0;36m__call__\u001b[0;34m(self, x, *args)\u001b[0m\n\u001b[1;32m     74\u001b[0m     \u001b[0;32mdef\u001b[0m \u001b[0m__call__\u001b[0m\u001b[0;34m(\u001b[0m\u001b[0mself\u001b[0m\u001b[0;34m,\u001b[0m \u001b[0mx\u001b[0m\u001b[0;34m,\u001b[0m \u001b[0;34m*\u001b[0m\u001b[0margs\u001b[0m\u001b[0;34m)\u001b[0m\u001b[0;34m:\u001b[0m\u001b[0;34m\u001b[0m\u001b[0;34m\u001b[0m\u001b[0m\n\u001b[1;32m     75\u001b[0m         \u001b[0;34m\"\"\" returns the function value \"\"\"\u001b[0m\u001b[0;34m\u001b[0m\u001b[0;34m\u001b[0m\u001b[0m\n\u001b[0;32m---> 76\u001b[0;31m         \u001b[0mself\u001b[0m\u001b[0;34m.\u001b[0m\u001b[0m_compute_if_needed\u001b[0m\u001b[0;34m(\u001b[0m\u001b[0mx\u001b[0m\u001b[0;34m,\u001b[0m \u001b[0;34m*\u001b[0m\u001b[0margs\u001b[0m\u001b[0;34m)\u001b[0m\u001b[0;34m\u001b[0m\u001b[0;34m\u001b[0m\u001b[0m\n\u001b[0m\u001b[1;32m     77\u001b[0m         \u001b[0;32mreturn\u001b[0m \u001b[0mself\u001b[0m\u001b[0;34m.\u001b[0m\u001b[0m_value\u001b[0m\u001b[0;34m\u001b[0m\u001b[0;34m\u001b[0m\u001b[0m\n\u001b[1;32m     78\u001b[0m \u001b[0;34m\u001b[0m\u001b[0m\n",
            "\u001b[0;32m/usr/local/lib/python3.10/dist-packages/scipy/optimize/_optimize.py\u001b[0m in \u001b[0;36m_compute_if_needed\u001b[0;34m(self, x, *args)\u001b[0m\n\u001b[1;32m     68\u001b[0m         \u001b[0;32mif\u001b[0m \u001b[0;32mnot\u001b[0m \u001b[0mnp\u001b[0m\u001b[0;34m.\u001b[0m\u001b[0mall\u001b[0m\u001b[0;34m(\u001b[0m\u001b[0mx\u001b[0m \u001b[0;34m==\u001b[0m \u001b[0mself\u001b[0m\u001b[0;34m.\u001b[0m\u001b[0mx\u001b[0m\u001b[0;34m)\u001b[0m \u001b[0;32mor\u001b[0m \u001b[0mself\u001b[0m\u001b[0;34m.\u001b[0m\u001b[0m_value\u001b[0m \u001b[0;32mis\u001b[0m \u001b[0;32mNone\u001b[0m \u001b[0;32mor\u001b[0m \u001b[0mself\u001b[0m\u001b[0;34m.\u001b[0m\u001b[0mjac\u001b[0m \u001b[0;32mis\u001b[0m \u001b[0;32mNone\u001b[0m\u001b[0;34m:\u001b[0m\u001b[0;34m\u001b[0m\u001b[0;34m\u001b[0m\u001b[0m\n\u001b[1;32m     69\u001b[0m             \u001b[0mself\u001b[0m\u001b[0;34m.\u001b[0m\u001b[0mx\u001b[0m \u001b[0;34m=\u001b[0m \u001b[0mnp\u001b[0m\u001b[0;34m.\u001b[0m\u001b[0masarray\u001b[0m\u001b[0;34m(\u001b[0m\u001b[0mx\u001b[0m\u001b[0;34m)\u001b[0m\u001b[0;34m.\u001b[0m\u001b[0mcopy\u001b[0m\u001b[0;34m(\u001b[0m\u001b[0;34m)\u001b[0m\u001b[0;34m\u001b[0m\u001b[0;34m\u001b[0m\u001b[0m\n\u001b[0;32m---> 70\u001b[0;31m             \u001b[0mfg\u001b[0m \u001b[0;34m=\u001b[0m \u001b[0mself\u001b[0m\u001b[0;34m.\u001b[0m\u001b[0mfun\u001b[0m\u001b[0;34m(\u001b[0m\u001b[0mx\u001b[0m\u001b[0;34m,\u001b[0m \u001b[0;34m*\u001b[0m\u001b[0margs\u001b[0m\u001b[0;34m)\u001b[0m\u001b[0;34m\u001b[0m\u001b[0;34m\u001b[0m\u001b[0m\n\u001b[0m\u001b[1;32m     71\u001b[0m             \u001b[0mself\u001b[0m\u001b[0;34m.\u001b[0m\u001b[0mjac\u001b[0m \u001b[0;34m=\u001b[0m \u001b[0mfg\u001b[0m\u001b[0;34m[\u001b[0m\u001b[0;36m1\u001b[0m\u001b[0;34m]\u001b[0m\u001b[0;34m\u001b[0m\u001b[0;34m\u001b[0m\u001b[0m\n\u001b[1;32m     72\u001b[0m             \u001b[0mself\u001b[0m\u001b[0;34m.\u001b[0m\u001b[0m_value\u001b[0m \u001b[0;34m=\u001b[0m \u001b[0mfg\u001b[0m\u001b[0;34m[\u001b[0m\u001b[0;36m0\u001b[0m\u001b[0;34m]\u001b[0m\u001b[0;34m\u001b[0m\u001b[0;34m\u001b[0m\u001b[0m\n",
            "\u001b[0;32m<ipython-input-62-b4e26764193c>\u001b[0m in \u001b[0;36moptimizerfunc\u001b[0;34m(self, parameters)\u001b[0m\n\u001b[1;32m    240\u001b[0m       \u001b[0mtape\u001b[0m\u001b[0;34m.\u001b[0m\u001b[0mwatch\u001b[0m\u001b[0;34m(\u001b[0m\u001b[0mself\u001b[0m\u001b[0;34m.\u001b[0m\u001b[0mtrainable_variables\u001b[0m\u001b[0;34m)\u001b[0m \u001b[0;31m# dig a little more about this\u001b[0m\u001b[0;34m\u001b[0m\u001b[0;34m\u001b[0m\u001b[0m\n\u001b[1;32m    241\u001b[0m \u001b[0;34m\u001b[0m\u001b[0m\n\u001b[0;32m--> 242\u001b[0;31m       \u001b[0mloss_val\u001b[0m\u001b[0;34m,\u001b[0m \u001b[0mloss_u_ic\u001b[0m\u001b[0;34m,\u001b[0m \u001b[0mloss_u_bc\u001b[0m\u001b[0;34m,\u001b[0m \u001b[0mloss_f\u001b[0m \u001b[0;34m=\u001b[0m \u001b[0mself\u001b[0m\u001b[0;34m.\u001b[0m\u001b[0mloss\u001b[0m\u001b[0;34m(\u001b[0m\u001b[0mX_u_ic_train\u001b[0m\u001b[0;34m,\u001b[0m \u001b[0mu_ic_train\u001b[0m\u001b[0;34m,\u001b[0m \u001b[0mX_u_bc_train\u001b[0m\u001b[0;34m,\u001b[0m \u001b[0mu_bc_train\u001b[0m\u001b[0;34m,\u001b[0m \u001b[0mX_pde_train\u001b[0m\u001b[0;34m)\u001b[0m\u001b[0;34m\u001b[0m\u001b[0;34m\u001b[0m\u001b[0m\n\u001b[0m\u001b[1;32m    243\u001b[0m \u001b[0;34m\u001b[0m\u001b[0m\n\u001b[1;32m    244\u001b[0m       \u001b[0;31m#loss_value_plotting = self.loss_value_plot.append(loss_val)\u001b[0m\u001b[0;34m\u001b[0m\u001b[0;34m\u001b[0m\u001b[0m\n",
            "\u001b[0;32m<ipython-input-62-b4e26764193c>\u001b[0m in \u001b[0;36mloss\u001b[0;34m(self, x_ic, y_ic, x_bc, y_bc, g)\u001b[0m\n\u001b[1;32m    230\u001b[0m     \u001b[0;31m# loss_data = self.loss_DATA(g,real_u)\u001b[0m\u001b[0;34m\u001b[0m\u001b[0;34m\u001b[0m\u001b[0m\n\u001b[1;32m    231\u001b[0m \u001b[0;34m\u001b[0m\u001b[0m\n\u001b[0;32m--> 232\u001b[0;31m     \u001b[0mloss\u001b[0m \u001b[0;34m=\u001b[0m \u001b[0mloss_u_ic\u001b[0m \u001b[0;34m+\u001b[0m \u001b[0mloss_u_bc\u001b[0m \u001b[0;34m+\u001b[0m \u001b[0mloss_pde\u001b[0m\u001b[0;34m\u001b[0m\u001b[0;34m\u001b[0m\u001b[0m\n\u001b[0m\u001b[1;32m    233\u001b[0m \u001b[0;34m\u001b[0m\u001b[0m\n\u001b[1;32m    234\u001b[0m     \u001b[0;32mreturn\u001b[0m \u001b[0mloss\u001b[0m\u001b[0;34m,\u001b[0m \u001b[0mloss_u_ic\u001b[0m\u001b[0;34m,\u001b[0m \u001b[0mloss_u_bc\u001b[0m\u001b[0;34m,\u001b[0m \u001b[0mloss_pde\u001b[0m\u001b[0;34m\u001b[0m\u001b[0;34m\u001b[0m\u001b[0m\n",
            "\u001b[0;32m/usr/local/lib/python3.10/dist-packages/tensorflow/python/util/traceback_utils.py\u001b[0m in \u001b[0;36merror_handler\u001b[0;34m(*args, **kwargs)\u001b[0m\n\u001b[1;32m    151\u001b[0m     \u001b[0;32mexcept\u001b[0m \u001b[0mException\u001b[0m \u001b[0;32mas\u001b[0m \u001b[0me\u001b[0m\u001b[0;34m:\u001b[0m\u001b[0;34m\u001b[0m\u001b[0;34m\u001b[0m\u001b[0m\n\u001b[1;32m    152\u001b[0m       \u001b[0mfiltered_tb\u001b[0m \u001b[0;34m=\u001b[0m \u001b[0m_process_traceback_frames\u001b[0m\u001b[0;34m(\u001b[0m\u001b[0me\u001b[0m\u001b[0;34m.\u001b[0m\u001b[0m__traceback__\u001b[0m\u001b[0;34m)\u001b[0m\u001b[0;34m\u001b[0m\u001b[0;34m\u001b[0m\u001b[0m\n\u001b[0;32m--> 153\u001b[0;31m       \u001b[0;32mraise\u001b[0m \u001b[0me\u001b[0m\u001b[0;34m.\u001b[0m\u001b[0mwith_traceback\u001b[0m\u001b[0;34m(\u001b[0m\u001b[0mfiltered_tb\u001b[0m\u001b[0;34m)\u001b[0m \u001b[0;32mfrom\u001b[0m \u001b[0;32mNone\u001b[0m\u001b[0;34m\u001b[0m\u001b[0;34m\u001b[0m\u001b[0m\n\u001b[0m\u001b[1;32m    154\u001b[0m     \u001b[0;32mfinally\u001b[0m\u001b[0;34m:\u001b[0m\u001b[0;34m\u001b[0m\u001b[0;34m\u001b[0m\u001b[0m\n\u001b[1;32m    155\u001b[0m       \u001b[0;32mdel\u001b[0m \u001b[0mfiltered_tb\u001b[0m\u001b[0;34m\u001b[0m\u001b[0;34m\u001b[0m\u001b[0m\n",
            "\u001b[0;32m/usr/local/lib/python3.10/dist-packages/tensorflow/python/framework/ops.py\u001b[0m in \u001b[0;36mraise_from_not_ok_status\u001b[0;34m(e, name)\u001b[0m\n\u001b[1;32m   7260\u001b[0m \u001b[0;32mdef\u001b[0m \u001b[0mraise_from_not_ok_status\u001b[0m\u001b[0;34m(\u001b[0m\u001b[0me\u001b[0m\u001b[0;34m,\u001b[0m \u001b[0mname\u001b[0m\u001b[0;34m)\u001b[0m\u001b[0;34m:\u001b[0m\u001b[0;34m\u001b[0m\u001b[0;34m\u001b[0m\u001b[0m\n\u001b[1;32m   7261\u001b[0m   \u001b[0me\u001b[0m\u001b[0;34m.\u001b[0m\u001b[0mmessage\u001b[0m \u001b[0;34m+=\u001b[0m \u001b[0;34m(\u001b[0m\u001b[0;34m\" name: \"\u001b[0m \u001b[0;34m+\u001b[0m \u001b[0mname\u001b[0m \u001b[0;32mif\u001b[0m \u001b[0mname\u001b[0m \u001b[0;32mis\u001b[0m \u001b[0;32mnot\u001b[0m \u001b[0;32mNone\u001b[0m \u001b[0;32melse\u001b[0m \u001b[0;34m\"\"\u001b[0m\u001b[0;34m)\u001b[0m\u001b[0;34m\u001b[0m\u001b[0;34m\u001b[0m\u001b[0m\n\u001b[0;32m-> 7262\u001b[0;31m   \u001b[0;32mraise\u001b[0m \u001b[0mcore\u001b[0m\u001b[0;34m.\u001b[0m\u001b[0m_status_to_exception\u001b[0m\u001b[0;34m(\u001b[0m\u001b[0me\u001b[0m\u001b[0;34m)\u001b[0m \u001b[0;32mfrom\u001b[0m \u001b[0;32mNone\u001b[0m  \u001b[0;31m# pylint: disable=protected-access\u001b[0m\u001b[0;34m\u001b[0m\u001b[0;34m\u001b[0m\u001b[0m\n\u001b[0m\u001b[1;32m   7263\u001b[0m \u001b[0;34m\u001b[0m\u001b[0m\n\u001b[1;32m   7264\u001b[0m \u001b[0;34m\u001b[0m\u001b[0m\n",
            "\u001b[0;31mInvalidArgumentError\u001b[0m: {{function_node __wrapped__Pack_N_2_device_/job:localhost/replica:0/task:0/device:GPU:0}} Shapes of all inputs must match: values[0].shape = [] != values[1].shape = [5001,1] [Op:Pack] name: y"
          ]
        }
      ]
    },
    {
      "cell_type": "code",
      "source": [
        "# Test Data\n",
        "snap = np.array([12])\n",
        "x_test = x_star # ((364816, 1)\n",
        "y_test = y_star # (364816, 1)\n",
        "t_test = t_star # (364816, 1)\n",
        "U_test = u_star # (364816, 1)\n",
        "dx_test = dx_star # (364816, 1)\n",
        "dy_test = dy_star # (364816, 1)\n",
        "\n",
        "# Prediction\n",
        "u_pred = PINN.predict(x_test,y_test,t_test,dx_test,dy_test)\n",
        "\n",
        "error_u = np.linalg.norm(U_test-u_pred,2)/np.linalg.norm(U_test,2)\n",
        "print('Error w: %e' % (error_u))\n",
        "\n",
        "u_pred = np.reshape(u_pred,(-1,16))\n",
        "\n",
        "#-------------------Plotting-----------------------------------------\n",
        "snap = 12\n",
        "lb_plot = X_Y_data.min(0)\n",
        "ub_plot = X_Y_data.max(0)\n",
        "nn = 200\n",
        "x_plot = np.linspace(lb_plot[0], ub_plot[0], nn)\n",
        "y_plot = np.linspace(lb_plot[1], ub_plot[1], nn)\n",
        "X_plot, Y_plot = np.meshgrid(x_plot,y_plot)\n",
        "\n",
        "U_data_plot = griddata(X_Y_data, disp_data[:,snap].flatten(), (X_plot, Y_plot), method='cubic')\n",
        "U_pred_plot = griddata(X_Y_data, u_pred[:,snap].flatten(), (X_plot, Y_plot), method='cubic')\n",
        "\n",
        "fig, ax = newfig(1.1, 0.6)\n",
        "ax.axis('off')\n",
        "\n",
        "########      Exact     ###########\n",
        "gs = gridspec.GridSpec(1, 3)\n",
        "gs.update(top=0.95, bottom=0.3, left=0.1, right=1.1, wspace=0.8)\n",
        "ax = plt.subplot(gs[:, 0])\n",
        "h = ax.imshow(U_data_plot, interpolation='nearest', cmap='seismic',\n",
        "              extent=[lb_plot[0], ub_plot[0], lb_plot[1], ub_plot[1]],\n",
        "              origin='lower', aspect='auto')\n",
        "divider = make_axes_locatable(ax)\n",
        "cax = divider.append_axes(\"right\", size=\"5%\", pad=0.05)\n",
        "\n",
        "fig.colorbar(h, cax=cax)\n",
        "ax.set_xlabel('$t$')\n",
        "ax.set_ylabel('$x$')\n",
        "ax.set_title('Exact', fontsize = 10) #Exact Dynamics\n",
        "\n",
        "\n",
        "########     Learned     ###########\n",
        "ax = plt.subplot(gs[:, 1])\n",
        "h = ax.imshow(U_pred_plot, interpolation='nearest', cmap='seismic',\n",
        "              extent=[lb_plot[0], ub_plot[0], lb_plot[1], ub_plot[1]],\n",
        "              origin='lower', aspect='auto')\n",
        "divider = make_axes_locatable(ax)\n",
        "cax = divider.append_axes(\"right\", size=\"5%\", pad=0.05)\n",
        "\n",
        "fig.colorbar(h, cax=cax)\n",
        "ax.set_xlabel('$t$')\n",
        "ax.set_ylabel('$x$')\n",
        "ax.set_title('Learned ', fontsize = 10) # Learned Dynamics\n",
        "\n",
        "########     Error     ###########\n",
        "ax = plt.subplot(gs[:, 2])\n",
        "h = ax.imshow(np.abs(U_data_plot - U_pred_plot), interpolation='nearest', cmap='seismic',\n",
        "              extent=[lb_plot[0], ub_plot[0], lb_plot[1], ub_plot[1]],\n",
        "              origin='lower', aspect='auto')\n",
        "divider = make_axes_locatable(ax)\n",
        "cax = divider.append_axes(\"right\", size=\"5%\", pad=0.05)\n",
        "\n",
        "fig.colorbar(h, cax=cax)\n",
        "ax.set_xlabel('$t$')\n",
        "ax.set_ylabel('$x$')\n",
        "ax.set_title('Error', fontsize = 10)\n",
        "\n",
        "plt.savefig('wave2d_8_10000c.png',dpi = 600)\n",
        "plt.show()"
      ],
      "metadata": {
        "colab": {
          "base_uri": "https://localhost:8080/",
          "height": 331
        },
        "id": "IUkC6xN5g4HQ",
        "outputId": "a65ed8fa-bc45-4fca-a1da-50f9f6017c42"
      },
      "execution_count": null,
      "outputs": [
        {
          "output_type": "stream",
          "name": "stdout",
          "text": [
            "(364816, 5)\n",
            "Error w: 1.000006e+00\n"
          ]
        },
        {
          "output_type": "stream",
          "name": "stderr",
          "text": [
            "<ipython-input-22-4f9531b820b4>:36: MatplotlibDeprecationWarning: Auto-removal of overlapping axes is deprecated since 3.6 and will be removed two minor releases later; explicitly call ax.remove() as needed.\n",
            "  ax = plt.subplot(gs[:, 0])\n"
          ]
        },
        {
          "output_type": "display_data",
          "data": {
            "text/plain": [
              "<Figure size 593.607x220.122 with 6 Axes>"
            ],
            "image/png": "[encoded data removed]"
          },
          "metadata": {}
        }
      ]
    },
    {
      "cell_type": "code",
      "source": [
        "# Calculating source vector\n",
        "source_time = X_pde_train[:,2][:,None]\n",
        "#print(np.shape(source_time))\n",
        "source_value_arr = np.array([])\n",
        "\n",
        "for t_i in source_time:\n",
        "  #print(i)\n",
        "  if  t_i >= 0 and t_i <= 5*scaled_Tex:\n",
        "    # Excitation source (scaled)\n",
        "    scaled_Vamp = tf.constant(value = 3.000e-09 , dtype='float64')# amplitude of force excitation\n",
        "    scaled_fex = tf.constant(value=4.52 , dtype='float64') # frequency in Hz used in excitation\n",
        "    cycles = tf.constant(value=5 , dtype='float64') # 5 full periods make up the sine burst excitation\n",
        "    scaled_Tex = 1/scaled_fex # time period of the excitation [s]\n",
        "    #print('Tex : ', Tex)\n",
        "\n",
        "    excitation = scaled_Vamp * tf.sin(2*np.pi*scaled_fex*t_i) * tf.sin(np.pi*scaled_fex/cycles*t_i)**2 #*(t_f < Tex*cycles);\n",
        "    #print(excitation)\n",
        "    source_value_arr = np.append(source_value_arr, excitation)\n",
        "    #print(source_value_arr, np.shape(source_value_arr))\n",
        "  else:\n",
        "    source_value_arr = np.append(source_value_arr, 0.0)\n",
        "\n",
        "source_value_arr = source_value_arr[:,None]\n",
        "#print(np.shape(source_value_arr))"
      ],
      "metadata": {
        "id": "eHCeSD8ua059"
      },
      "execution_count": null,
      "outputs": []
    }
  ]
}